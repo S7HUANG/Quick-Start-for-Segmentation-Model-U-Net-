{
 "cells": [
  {
   "cell_type": "code",
   "execution_count": 1,
   "metadata": {},
   "outputs": [],
   "source": [
    "import os  \n",
    "import random\n",
    "from shutil import copy \n",
    "\n",
    "import sys\n",
    "sys.path.append(os.path.dirname(os.path.abspath('__file__')))"
   ]
  },
  {
   "cell_type": "code",
   "execution_count": null,
   "metadata": {},
   "outputs": [],
   "source": [
    "img_path = \"Data\\\\raw_data\\\\image\"\n",
    "labels_path = \"Data\\\\raw_data\\\\label\"\n",
    "\n",
    "filelist_img_name = []\n",
    "filelist_label_name = []\n",
    "\n",
    "for root, dir, filenames in os.walk(img_path):\n",
    "    for filename in filenames:\n",
    "        if '.tif' in filename:\n",
    "            file_path = os.path.join(root, filename)\n",
    "            print(file_path)\n",
    "            filelist_img_name.append(file_path)\n",
    "        else:\n",
    "            pass\n",
    "            # print(\"it is not a jpg file.\", filename)"
   ]
  },
  {
   "cell_type": "code",
   "execution_count": null,
   "metadata": {},
   "outputs": [],
   "source": [
    "for root, dir, filenames in os.walk(labels_path):\n",
    "    for filename in filenames:\n",
    "        if '.tif' in filename:\n",
    "            file_path = os.path.join(root, filename)\n",
    "            print(file_path)\n",
    "            filelist_label_name.append(file_path)\n",
    "        else:\n",
    "            pass\n",
    "            # print(\"it is not a jpg file.\", filename)"
   ]
  },
  {
   "cell_type": "code",
   "execution_count": 4,
   "metadata": {},
   "outputs": [
    {
     "name": "stdout",
     "output_type": "stream",
     "text": [
      "2858\n",
      "2858\n"
     ]
    }
   ],
   "source": [
    "print(len(filelist_img_name))\n",
    "print(len(filelist_label_name))"
   ]
  },
  {
   "cell_type": "code",
   "execution_count": 5,
   "metadata": {},
   "outputs": [],
   "source": [
    "random.shuffle(filelist_img_name)\n",
    "filelist_img_name = filelist_img_name"
   ]
  },
  {
   "cell_type": "code",
   "execution_count": 7,
   "metadata": {},
   "outputs": [],
   "source": [
    "##split data 8:2\n",
    "for tr in filelist_img_name[0:2287]:\n",
    "    copy(tr, 'Data\\\\train\\\\image')\n",
    "    tr = tr.replace('image\\\\', 'label\\\\')\n",
    "    copy(tr, 'Data\\\\train\\\\label')"
   ]
  },
  {
   "cell_type": "code",
   "execution_count": 9,
   "metadata": {},
   "outputs": [],
   "source": [
    "##split validation Data\n",
    "for tr in filelist_img_name[2287:2858]:\n",
    "    copy(tr, 'Data\\\\validation\\\\image')\n",
    "    tr = tr.replace('image\\\\', 'label\\\\')\n",
    "    copy(tr, 'Data\\\\validation\\\\label')"
   ]
  }
 ],
 "metadata": {
  "interpreter": {
   "hash": "0fdc0338dc146ffe56f2cbd5c45fe3e94e963a7ed5e497e8441f24eed9f4a107"
  },
  "kernelspec": {
   "display_name": "Python 3.8.12 ('pytorch')",
   "language": "python",
   "name": "python3"
  },
  "language_info": {
   "codemirror_mode": {
    "name": "ipython",
    "version": 3
   },
   "file_extension": ".py",
   "mimetype": "text/x-python",
   "name": "python",
   "nbconvert_exporter": "python",
   "pygments_lexer": "ipython3",
   "version": "3.8.12"
  },
  "orig_nbformat": 4
 },
 "nbformat": 4,
 "nbformat_minor": 2
}
